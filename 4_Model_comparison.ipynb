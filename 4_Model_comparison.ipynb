{
 "cells": [
  {
   "cell_type": "markdown",
   "metadata": {},
   "source": [
    "# Predicting the outcome of loan applications\n",
    "# 4. Model comparison"
   ]
  },
  {
   "cell_type": "code",
   "execution_count": 3,
   "metadata": {},
   "outputs": [],
   "source": [
    "import os\n",
    "import pandas as pd\n",
    "import numpy as np\n",
    "import seaborn as sns\n",
    "import sys\n",
    "import matplotlib.pyplot as plt\n",
    "\n",
    "from sklearn.preprocessing import StandardScaler\n",
    "from sklearn.decomposition import PCA\n",
    "from sklearn.pipeline import Pipeline\n",
    "from sklearn.metrics import precision_score\n",
    "from sklearn.metrics import recall_score\n",
    "\n",
    "from sklearn.linear_model import LogisticRegression\n",
    "from sklearn.ensemble import RandomForestClassifier\n",
    "from sklearn.model_selection import StratifiedShuffleSplit\n",
    "from sklearn.model_selection import StratifiedKFold\n",
    "\n",
    "p = os.path.abspath('../')\n",
    "if p not in sys.path:\n",
    "    sys.path.append(p)\n",
    "\n",
    "from shared.data_processing import CategoricalEncoder\n"
   ]
  },
  {
   "cell_type": "markdown",
   "metadata": {},
   "source": [
    "## Load data"
   ]
  },
  {
   "cell_type": "code",
   "execution_count": 4,
   "metadata": {},
   "outputs": [],
   "source": [
    "df = pd.read_csv('./data/loan_data_prepped.csv')"
   ]
  },
  {
   "cell_type": "markdown",
   "metadata": {},
   "source": [
    "## Set the features\n",
    "Features of interest we have identified in the previous notebooks."
   ]
  },
  {
   "cell_type": "code",
   "execution_count": 5,
   "metadata": {},
   "outputs": [],
   "source": [
    "OTHER_CATEGORICAL = ['loan_history', 'purpose', 'other_parties', 'property_magnitude',\n",
    "                     'other_payment_plans', 'housing', 'personal_status', 'job']"
   ]
  },
  {
   "cell_type": "code",
   "execution_count": 6,
   "metadata": {},
   "outputs": [],
   "source": [
    "NUMERICAL_FEATURES = ['duration', 'loan_amount', 'age']\n",
    "\n",
    "FIXED_CATEGORICAL = ['foreign_worker_binary', 'checking_status_ordinal', 'savings_status_ordinal',\n",
    "                     'employment_ordinal', 'installment_commitment_ordinal']\n",
    "\n",
    "VARIABLE_CATEGORICAL = [f'{feature}_encoded' for feature in OTHER_CATEGORICAL]\n",
    "\n",
    "FEATURES = NUMERICAL_FEATURES + FIXED_CATEGORICAL + VARIABLE_CATEGORICAL"
   ]
  },
  {
   "cell_type": "markdown",
   "metadata": {},
   "source": [
    "## Precision-recall curve"
   ]
  },
  {
   "cell_type": "code",
   "execution_count": 7,
   "metadata": {},
   "outputs": [],
   "source": [
    "def compute_precision_recall_curve(X, y, pipeline, splitter, thresholds=np.arange(0, 1, 0.05)):\n",
    "    \"\"\"\n",
    "    Compute average precision-recall curve over random train/test splits.\n",
    "    \n",
    "    Parameters\n",
    "    ----------\n",
    "    X: pandas.DataFrame\n",
    "        Features to use for model training and testing.\n",
    "    y: pandas.Series\n",
    "        Labels to use for model training and testing.\n",
    "    classifier: sklearn.linear_model.LogisticRegression or other\n",
    "        Sklearn classifier that supports prediction of class proabilities.\n",
    "    splitter: sklearn.model_selection.StratifiedShuffleSplit or similar\n",
    "        Iterable object that generates random train/test splits.\n",
    "    scaler: sklearn.preprocessing.StandardScaler or similar.\n",
    "        Object that scales the features.\n",
    "    oversampler: imblearn.over_sampling.ADASYN or similar.\n",
    "        Object that generates synthetic data.\n",
    "    threshold: np.array\n",
    "        The threshold values to use for the calculation.\n",
    "    \n",
    "    Returns\n",
    "    -------\n",
    "    precisions: np.array\n",
    "        Mean of precision scores by threshold over the splits.\n",
    "    recalls: np.array\n",
    "        Mean of recall scores by threshold over the splits.\n",
    "\n",
    "    \"\"\"\n",
    "    precisions = np.zeros((splitter.n_splits, len(thresholds)))\n",
    "    recalls = np.zeros((splitter.n_splits, len(thresholds)))\n",
    "\n",
    "    for (i, (train_IDX, test_IDX)) in enumerate(splitter.split(X, y)):\n",
    "        X_train = X.loc[train_IDX]\n",
    "        y_train = y.loc[train_IDX]\n",
    "        \n",
    "        pipeline.fit(X_train, y_train)\n",
    "        \n",
    "        for j, threshold in enumerate(thresholds):\n",
    "            X_test = X.loc[test_IDX]\n",
    "            y_test = y.loc[test_IDX]\n",
    "            predictions = (pipeline.predict_proba(X_test)[:,1] > threshold).astype(int)\n",
    "            precisions[i,j] = precision_score(y_test, predictions, zero_division=1)\n",
    "            recalls[i,j] = recall_score(y_test, predictions)\n",
    "    \n",
    "    return np.mean(precisions, axis=0), np.mean(recalls, axis=0)"
   ]
  },
  {
   "cell_type": "code",
   "execution_count": 20,
   "metadata": {},
   "outputs": [],
   "source": [
    "def precision_recall_curve_random(X, y, splitter, positive_frac=0.5, thresholds=np.arange(0, 1, 0.05)):\n",
    "    \"\"\"\n",
    "    Compute average precision-recall curve over random train/test splits.\n",
    "    \n",
    "    Parameters\n",
    "    ----------\n",
    "    X: pandas.DataFrame\n",
    "        Features to use for model training and testing.\n",
    "    y: pandas.Series\n",
    "        Labels to use for model training and testing.\n",
    "    classifier: sklearn.linear_model.LogisticRegression or other\n",
    "        Sklearn classifier that supports prediction of class proabilities.\n",
    "    splitter: sklearn.model_selection.StratifiedShuffleSplit or similar\n",
    "        Iterable object that generates random train/test splits.\n",
    "    scaler: sklearn.preprocessing.StandardScaler or similar.\n",
    "        Object that scales the features.\n",
    "    oversampler: imblearn.over_sampling.ADASYN or similar.\n",
    "        Object that generates synthetic data.\n",
    "    threshold: np.array\n",
    "        The threshold values to use for the calculation.\n",
    "    \n",
    "    Returns\n",
    "    -------\n",
    "    precisions: np.array\n",
    "        Mean of precision scores by threshold over the splits.\n",
    "    recalls: np.array\n",
    "        Mean of recall scores by threshold over the splits.\n",
    "\n",
    "    \"\"\"\n",
    "    precisions = np.zeros((splitter.n_splits, len(thresholds)))\n",
    "    recalls = np.zeros((splitter.n_splits, len(thresholds)))\n",
    "\n",
    "    for (i, (train_IDX, test_IDX)) in enumerate(splitter.split(X, y)):\n",
    "        for j, threshold in enumerate(thresholds):\n",
    "            X_test = X.loc[test_IDX]\n",
    "            y_test = y.loc[test_IDX]\n",
    "            predictions = (np.random.rand(len(y_test)) > threshold).astype(int)\n",
    "            precisions[i,j] = precision_score(y_test, predictions, zero_division=1)\n",
    "            recalls[i,j] = recall_score(y_test, predictions)\n",
    "    \n",
    "    return np.mean(precisions, axis=0), np.mean(recalls, axis=0)"
   ]
  },
  {
   "cell_type": "code",
   "execution_count": 25,
   "metadata": {},
   "outputs": [],
   "source": [
    "precisions_rand, recalls_rand = precision_recall_curve_random(df, df['label'], sss)"
   ]
  },
  {
   "cell_type": "markdown",
   "metadata": {},
   "source": [
    "## Set up the modelling pipelines to compare"
   ]
  },
  {
   "cell_type": "code",
   "execution_count": 8,
   "metadata": {},
   "outputs": [],
   "source": [
    "encoder = CategoricalEncoder(features_to_encode=OTHER_CATEGORICAL,\n",
    "                             target='label',\n",
    "                             features_to_return=FEATURES)"
   ]
  },
  {
   "cell_type": "code",
   "execution_count": 9,
   "metadata": {},
   "outputs": [],
   "source": [
    "logistic_tuned = LogisticRegression(max_iter=2000,\n",
    "                                    class_weight='balanced',\n",
    "                                    solver='lbfgs',\n",
    "                                    C=1.62e-7)"
   ]
  },
  {
   "cell_type": "code",
   "execution_count": 10,
   "metadata": {},
   "outputs": [],
   "source": [
    "pipe_logistic = Pipeline(steps=[('encoder', encoder),\n",
    "                                ('scaler', StandardScaler()),\n",
    "                                ('logistic', logistic_tuned)])\n"
   ]
  },
  {
   "cell_type": "code",
   "execution_count": 11,
   "metadata": {},
   "outputs": [],
   "source": [
    "rfc_tuned = RandomForestClassifier(class_weight='balanced',\n",
    "                                   n_estimators=100,\n",
    "                                   criterion='gini',\n",
    "                                   max_depth=1,\n",
    "                                   max_features=1)"
   ]
  },
  {
   "cell_type": "code",
   "execution_count": 12,
   "metadata": {},
   "outputs": [],
   "source": [
    "pipe_forest = Pipeline(steps=[('encoder', encoder),\n",
    "                              ('forest', rfc_tuned)])"
   ]
  },
  {
   "cell_type": "markdown",
   "metadata": {},
   "source": [
    "## Compute precision-recall curves"
   ]
  },
  {
   "cell_type": "code",
   "execution_count": 15,
   "metadata": {},
   "outputs": [],
   "source": [
    "sss = StratifiedShuffleSplit(n_splits=50, test_size=0.25)"
   ]
  },
  {
   "cell_type": "code",
   "execution_count": 24,
   "metadata": {},
   "outputs": [
    {
     "ename": "NameError",
     "evalue": "name 'recalls_rand' is not defined",
     "output_type": "error",
     "traceback": [
      "\u001b[0;31m---------------------------------------------------------------------------\u001b[0m",
      "\u001b[0;31mNameError\u001b[0m                                 Traceback (most recent call last)",
      "\u001b[0;32m<ipython-input-24-8e5506ad03c6>\u001b[0m in \u001b[0;36m<module>\u001b[0;34m\u001b[0m\n\u001b[1;32m      1\u001b[0m \u001b[0mprecisions_rfc\u001b[0m\u001b[0;34m,\u001b[0m \u001b[0mrecalls_rfc\u001b[0m \u001b[0;34m=\u001b[0m \u001b[0mcompute_precision_recall_curve\u001b[0m\u001b[0;34m(\u001b[0m\u001b[0mdf\u001b[0m\u001b[0;34m,\u001b[0m \u001b[0mdf\u001b[0m\u001b[0;34m[\u001b[0m\u001b[0;34m'label'\u001b[0m\u001b[0;34m]\u001b[0m\u001b[0;34m,\u001b[0m \u001b[0mpipe_forest\u001b[0m\u001b[0;34m,\u001b[0m \u001b[0msss\u001b[0m\u001b[0;34m)\u001b[0m\u001b[0;34m\u001b[0m\u001b[0;34m\u001b[0m\u001b[0m\n\u001b[1;32m      2\u001b[0m \u001b[0mplt\u001b[0m\u001b[0;34m.\u001b[0m\u001b[0mplot\u001b[0m\u001b[0;34m(\u001b[0m\u001b[0mrecalls_rfc\u001b[0m\u001b[0;34m,\u001b[0m \u001b[0mprecisions_rfc\u001b[0m\u001b[0;34m)\u001b[0m\u001b[0;34m\u001b[0m\u001b[0;34m\u001b[0m\u001b[0m\n\u001b[0;32m----> 3\u001b[0;31m \u001b[0mplt\u001b[0m\u001b[0;34m.\u001b[0m\u001b[0mplot\u001b[0m\u001b[0;34m(\u001b[0m\u001b[0mrecalls_rand\u001b[0m\u001b[0;34m,\u001b[0m \u001b[0mprecisions_rand\u001b[0m\u001b[0;34m)\u001b[0m\u001b[0;34m\u001b[0m\u001b[0;34m\u001b[0m\u001b[0m\n\u001b[0m",
      "\u001b[0;31mNameError\u001b[0m: name 'recalls_rand' is not defined"
     ]
    },
    {
     "data": {
      "image/png": "[encoded data removed]",
      "text/plain": [
       "<Figure size 432x288 with 1 Axes>"
      ]
     },
     "metadata": {
      "needs_background": "light"
     },
     "output_type": "display_data"
    }
   ],
   "source": [
    "precisions_rfc, recalls_rfc = compute_precision_recall_curve(df, df['label'], pipe_forest, sss)"
   ]
  },
  {
   "cell_type": "code",
   "execution_count": 26,
   "metadata": {},
   "outputs": [
    {
     "data": {
      "text/plain": [
       "[<matplotlib.lines.Line2D at 0x7fc38d57b2d0>]"
      ]
     },
     "execution_count": 26,
     "metadata": {},
     "output_type": "execute_result"
    },
    {
     "data": {
      "image/png": "[encoded data removed]",
      "text/plain": [
       "<Figure size 432x288 with 1 Axes>"
      ]
     },
     "metadata": {
      "needs_background": "light"
     },
     "output_type": "display_data"
    }
   ],
   "source": [
    "plt.plot(recalls_rfc, precisions_rfc)\n",
    "plt.plot(recalls_rand, precisions_rand)"
   ]
  },
  {
   "cell_type": "code",
   "execution_count": 18,
   "metadata": {},
   "outputs": [
    {
     "data": {
      "text/plain": [
       "[<matplotlib.lines.Line2D at 0x7fc387bd5a50>]"
      ]
     },
     "execution_count": 18,
     "metadata": {},
     "output_type": "execute_result"
    },
    {
     "data": {
      "image/png": "[encoded data removed]",
      "text/plain": [
       "<Figure size 432x288 with 1 Axes>"
      ]
     },
     "metadata": {
      "needs_background": "light"
     },
     "output_type": "display_data"
    }
   ],
   "source": [
    "precisions_lr, recalls_lr = compute_precision_recall_curve(df, df['label'], pipe_logistic, sss)\n",
    "plt.plot(precisions_lr, recalls_lr)"
   ]
  },
  {
   "cell_type": "code",
   "execution_count": null,
   "metadata": {},
   "outputs": [],
   "source": []
  },
  {
   "cell_type": "markdown",
   "metadata": {},
   "source": [
    "## Compare the curves"
   ]
  },
  {
   "cell_type": "code",
   "execution_count": 75,
   "metadata": {},
   "outputs": [
    {
     "data": {
      "text/plain": [
       "<matplotlib.legend.Legend at 0x133199890>"
      ]
     },
     "execution_count": 75,
     "metadata": {},
     "output_type": "execute_result"
    },
    {
     "data": {
      "image/png": "[encoded data removed]",
      "text/plain": [
       "<Figure size 432x288 with 1 Axes>"
      ]
     },
     "metadata": {
      "needs_background": "light"
     },
     "output_type": "display_data"
    }
   ],
   "source": [
    "fig = plt.figure()\n",
    "plt.plot(recalls_lr, precisions_lr)\n",
    "plt.plot(recalls_rfc, precisions_rfc)\n",
    "plt.xlabel('recall')\n",
    "plt.ylabel('precision')\n",
    "plt.axvline(0.95, color='red')\n",
    "plt.axhline(0.51)\n",
    "plt.legend(['logistic regr', 'random forest'])"
   ]
  },
  {
   "cell_type": "code",
   "execution_count": null,
   "metadata": {},
   "outputs": [],
   "source": []
  }
 ],
 "metadata": {
  "kernelspec": {
   "display_name": "Python 3",
   "language": "python",
   "name": "python3"
  },
  "language_info": {
   "codemirror_mode": {
    "name": "ipython",
    "version": 3
   },
   "file_extension": ".py",
   "mimetype": "text/x-python",
   "name": "python",
   "nbconvert_exporter": "python",
   "pygments_lexer": "ipython3",
   "version": "3.7.9"
  }
 },
 "nbformat": 4,
 "nbformat_minor": 4
}
