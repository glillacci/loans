{
 "cells": [
  {
   "cell_type": "markdown",
   "metadata": {},
   "source": [
    "# Predicting the outcome of loan applications\n",
    "# 4. Model comparison"
   ]
  },
  {
   "cell_type": "code",
   "execution_count": 1,
   "metadata": {},
   "outputs": [],
   "source": [
    "import os\n",
    "import pandas as pd\n",
    "import numpy as np\n",
    "import seaborn as sns\n",
    "import sys\n",
    "import matplotlib.pyplot as plt\n",
    "\n",
    "from sklearn.preprocessing import StandardScaler\n",
    "from sklearn.decomposition import PCA\n",
    "from sklearn.pipeline import Pipeline\n",
    "from sklearn.metrics import precision_score\n",
    "from sklearn.metrics import recall_score\n",
    "\n",
    "from sklearn.linear_model import LogisticRegression\n",
    "from sklearn.ensemble import RandomForestClassifier\n",
    "from sklearn.model_selection import StratifiedShuffleSplit\n",
    "from sklearn.model_selection import StratifiedKFold\n",
    "\n",
    "p = os.path.abspath('../')\n",
    "if p not in sys.path:\n",
    "    sys.path.append(p)\n",
    "\n",
    "from shared.data_processing import CategoricalEncoder\n",
    "from shared.data_processing import FeatureSelector\n"
   ]
  },
  {
   "cell_type": "markdown",
   "metadata": {},
   "source": [
    "## Load data"
   ]
  },
  {
   "cell_type": "code",
   "execution_count": 3,
   "metadata": {},
   "outputs": [],
   "source": [
    "df = pd.read_csv('./data/loan_data_prepped.csv')"
   ]
  },
  {
   "cell_type": "code",
   "execution_count": 4,
   "metadata": {},
   "outputs": [],
   "source": [
    "X = df.drop(['label', 'accepted'], axis=1)\n",
    "y = df['label']"
   ]
  },
  {
   "cell_type": "markdown",
   "metadata": {},
   "source": [
    "## Set the features\n",
    "Features of interest we have identified in the previous notebooks."
   ]
  },
  {
   "cell_type": "code",
   "execution_count": 5,
   "metadata": {},
   "outputs": [],
   "source": [
    "NUMERICAL_FEATURES = ['duration', 'loan_amount', 'age']\n",
    "\n",
    "FIXED_CATEGORICAL = ['foreign_worker_binary', 'checking_status_ordinal', 'savings_status_ordinal',\n",
    "                     'employment_ordinal', 'installment_commitment_ordinal']\n",
    "\n",
    "OTHER_CATEGORICAL = ['loan_history', 'purpose', 'other_parties', 'property_magnitude',\n",
    "                     'other_payment_plans', 'housing', 'personal_status', 'job']\n",
    "\n",
    "FEATURES = NUMERICAL_FEATURES + FIXED_CATEGORICAL + OTHER_CATEGORICAL"
   ]
  },
  {
   "cell_type": "markdown",
   "metadata": {},
   "source": [
    "## Precision-recall curve"
   ]
  },
  {
   "cell_type": "code",
   "execution_count": 175,
   "metadata": {},
   "outputs": [],
   "source": [
    "def compute_precision_recall_curve(X, y, pipeline, splitter, thresholds=np.arange(0, 1, 0.05)):\n",
    "    \"\"\"\n",
    "    Compute average precision-recall curve over random train/test splits.\n",
    "    \n",
    "    Parameters\n",
    "    ----------\n",
    "    X: pandas.DataFrame\n",
    "        Features to use for model training and testing.\n",
    "    y: pandas.Series\n",
    "        Labels to use for model training and testing.\n",
    "    classifier: sklearn.linear_model.LogisticRegression or other\n",
    "        Sklearn classifier that supports prediction of class proabilities.\n",
    "    splitter: sklearn.model_selection.StratifiedShuffleSplit or similar\n",
    "        Iterable object that generates random train/test splits.\n",
    "    scaler: sklearn.preprocessing.StandardScaler or similar.\n",
    "        Object that scales the features.\n",
    "    oversampler: imblearn.over_sampling.ADASYN or similar.\n",
    "        Object that generates synthetic data.\n",
    "    threshold: np.array\n",
    "        The threshold values to use for the calculation.\n",
    "    \n",
    "    Returns\n",
    "    -------\n",
    "    precisions: np.array\n",
    "        Mean of precision scores by threshold over the splits.\n",
    "    recalls: np.array\n",
    "        Mean of recall scores by threshold over the splits.\n",
    "\n",
    "    \"\"\"\n",
    "    precisions = np.zeros((splitter.n_splits, len(thresholds)))\n",
    "    recalls = np.zeros((splitter.n_splits, len(thresholds)))\n",
    "\n",
    "    for (i, (train_IDX, test_IDX)) in enumerate(splitter.split(X, y)):\n",
    "        X_train = X.loc[train_IDX]\n",
    "        y_train = y.loc[train_IDX]\n",
    "        \n",
    "        pipeline.fit(X_train, y_train)\n",
    "        \n",
    "        for j, threshold in enumerate(thresholds):\n",
    "            X_test = X.loc[test_IDX]\n",
    "            y_test = y.loc[test_IDX]\n",
    "            predictions = (pipeline.predict_proba(X_test)[:,1] > threshold).astype(int)\n",
    "            precisions[i,j] = precision_score(y_test, predictions, zero_division=1)\n",
    "            recalls[i,j] = recall_score(y_test, predictions)\n",
    "    \n",
    "    return np.mean(precisions, axis=0), np.mean(recalls, axis=0)"
   ]
  },
  {
   "cell_type": "code",
   "execution_count": 176,
   "metadata": {},
   "outputs": [],
   "source": [
    "def precision_recall_curve_random(X, y, splitter, thresholds=np.arange(0, 1, 0.05)):\n",
    "    precisions = np.zeros((splitter.n_splits, len(thresholds)))\n",
    "    recalls = np.zeros((splitter.n_splits, len(thresholds)))\n",
    "\n",
    "    for (i, (train_IDX, test_IDX)) in enumerate(splitter.split(X, y)):\n",
    "        for j, threshold in enumerate(thresholds):\n",
    "            y_test = y.loc[test_IDX]\n",
    "            predictions = (np.random.rand(len(y_test)) > threshold).astype(int)\n",
    "            precisions[i,j] = precision_score(y_test, predictions, zero_division=0)\n",
    "            recalls[i,j] = recall_score(y_test, predictions)\n",
    "    return np.mean(precisions, axis=0), np.mean(recalls, axis=0)"
   ]
  },
  {
   "cell_type": "code",
   "execution_count": 177,
   "metadata": {},
   "outputs": [],
   "source": [
    "IDX = [i for i in sss.split(X, y)][0][1]"
   ]
  },
  {
   "cell_type": "code",
   "execution_count": 178,
   "metadata": {},
   "outputs": [
    {
     "data": {
      "text/plain": [
       "974    0.0\n",
       "235    1.0\n",
       "657    0.0\n",
       "853    1.0\n",
       "82     0.0\n",
       "      ... \n",
       "342    0.0\n",
       "813    1.0\n",
       "147    0.0\n",
       "668    1.0\n",
       "415    0.0\n",
       "Name: label, Length: 250, dtype: float64"
      ]
     },
     "execution_count": 178,
     "metadata": {},
     "output_type": "execute_result"
    }
   ],
   "source": [
    "y[IDX]"
   ]
  },
  {
   "cell_type": "code",
   "execution_count": 179,
   "metadata": {},
   "outputs": [],
   "source": [
    "predictions = (np.random.rand(len(y[IDX])) > 0.95).astype(int)"
   ]
  },
  {
   "cell_type": "code",
   "execution_count": 180,
   "metadata": {},
   "outputs": [
    {
     "data": {
      "text/plain": [
       "0.04"
      ]
     },
     "execution_count": 180,
     "metadata": {},
     "output_type": "execute_result"
    }
   ],
   "source": [
    "np.mean(predictions)"
   ]
  },
  {
   "cell_type": "code",
   "execution_count": 181,
   "metadata": {},
   "outputs": [
    {
     "data": {
      "text/plain": [
       "0.4"
      ]
     },
     "execution_count": 181,
     "metadata": {},
     "output_type": "execute_result"
    }
   ],
   "source": [
    "precision_score(y[IDX], predictions, zero_division=0)"
   ]
  },
  {
   "cell_type": "code",
   "execution_count": 182,
   "metadata": {},
   "outputs": [
    {
     "data": {
      "text/plain": [
       "0.05333333333333334"
      ]
     },
     "execution_count": 182,
     "metadata": {},
     "output_type": "execute_result"
    }
   ],
   "source": [
    "recall_score(y[IDX], predictions)"
   ]
  },
  {
   "cell_type": "code",
   "execution_count": null,
   "metadata": {},
   "outputs": [],
   "source": []
  },
  {
   "cell_type": "code",
   "execution_count": 183,
   "metadata": {},
   "outputs": [],
   "source": [
    "precisions_rand, recalls_rand = precision_recall_curve_random(X, y, sss)"
   ]
  },
  {
   "cell_type": "code",
   "execution_count": 184,
   "metadata": {},
   "outputs": [
    {
     "data": {
      "text/plain": [
       "array([0.3       , 0.30004652, 0.30072812, 0.29897954, 0.30080683,\n",
       "       0.30066775, 0.30416258, 0.30260928, 0.30051854, 0.29959159,\n",
       "       0.29809589, 0.30693371, 0.29458635, 0.3032391 , 0.30093213,\n",
       "       0.30714692, 0.30379636, 0.28651796, 0.29242374, 0.2878013 ])"
      ]
     },
     "execution_count": 184,
     "metadata": {},
     "output_type": "execute_result"
    }
   ],
   "source": [
    "precisions_rand"
   ]
  },
  {
   "cell_type": "markdown",
   "metadata": {},
   "source": [
    "## Set up the modelling pipelines to compare"
   ]
  },
  {
   "cell_type": "code",
   "execution_count": 185,
   "metadata": {},
   "outputs": [],
   "source": [
    "encoder = CategoricalEncoder(features_to_encode=OTHER_CATEGORICAL)"
   ]
  },
  {
   "cell_type": "code",
   "execution_count": 186,
   "metadata": {},
   "outputs": [],
   "source": [
    "selector = FeatureSelector(features_to_select=NUMERICAL_FEATURES + FIXED_CATEGORICAL)"
   ]
  },
  {
   "cell_type": "code",
   "execution_count": 187,
   "metadata": {},
   "outputs": [],
   "source": [
    "logistic_tuned = LogisticRegression(max_iter=2000,\n",
    "                                    class_weight='balanced',\n",
    "                                    solver='lbfgs',\n",
    "                                    C=1)"
   ]
  },
  {
   "cell_type": "code",
   "execution_count": 188,
   "metadata": {},
   "outputs": [],
   "source": [
    "pipe_logistic = Pipeline(steps=[('encoder', encoder),\n",
    "                                ('select', selector),\n",
    "                                ('scaler', StandardScaler()),\n",
    "                                ('logistic', logistic_tuned)])"
   ]
  },
  {
   "cell_type": "code",
   "execution_count": 189,
   "metadata": {},
   "outputs": [],
   "source": [
    "rfc_tuned = RandomForestClassifier(class_weight='balanced',\n",
    "                                   n_estimators=100,\n",
    "                                   criterion='gini',\n",
    "                                   max_depth=None,\n",
    "                                   max_features='auto')"
   ]
  },
  {
   "cell_type": "code",
   "execution_count": 190,
   "metadata": {},
   "outputs": [],
   "source": [
    "pipe_forest = Pipeline(steps=[('encode', encoder),\n",
    "                              ('select', selector),\n",
    "                              ('forest', rfc_tuned)])"
   ]
  },
  {
   "cell_type": "code",
   "execution_count": 191,
   "metadata": {},
   "outputs": [
    {
     "data": {
      "text/plain": [
       "array([0.  , 0.05, 0.1 , 0.15, 0.2 , 0.25, 0.3 , 0.35, 0.4 , 0.45, 0.5 ,\n",
       "       0.55, 0.6 , 0.65, 0.7 , 0.75, 0.8 , 0.85, 0.9 , 0.95, 1.  ])"
      ]
     },
     "execution_count": 191,
     "metadata": {},
     "output_type": "execute_result"
    }
   ],
   "source": [
    "np.arange(0, 1.05, 0.05)"
   ]
  },
  {
   "cell_type": "markdown",
   "metadata": {},
   "source": [
    "## Compute precision-recall curves"
   ]
  },
  {
   "cell_type": "code",
   "execution_count": 192,
   "metadata": {},
   "outputs": [],
   "source": [
    "sss = StratifiedShuffleSplit(n_splits=50, test_size=0.25)"
   ]
  },
  {
   "cell_type": "code",
   "execution_count": 193,
   "metadata": {},
   "outputs": [],
   "source": [
    "precisions_rfc, recalls_rfc = compute_precision_recall_curve(X, y, pipe_forest, sss)"
   ]
  },
  {
   "cell_type": "code",
   "execution_count": 194,
   "metadata": {},
   "outputs": [
    {
     "data": {
      "text/plain": [
       "[<matplotlib.lines.Line2D at 0x7fc7a3013f10>]"
      ]
     },
     "execution_count": 194,
     "metadata": {},
     "output_type": "execute_result"
    },
    {
     "data": {
      "image/png": "[encoded data removed]",
      "text/plain": [
       "<Figure size 432x288 with 1 Axes>"
      ]
     },
     "metadata": {
      "needs_background": "light"
     },
     "output_type": "display_data"
    }
   ],
   "source": [
    "plt.plot(recalls_rfc, precisions_rfc)\n",
    "plt.plot(recalls_rand, precisions_rand)"
   ]
  },
  {
   "cell_type": "code",
   "execution_count": 195,
   "metadata": {},
   "outputs": [],
   "source": [
    "precisions_lr, recalls_lr = compute_precision_recall_curve(X, y, pipe_logistic, sss)"
   ]
  },
  {
   "cell_type": "code",
   "execution_count": 196,
   "metadata": {},
   "outputs": [
    {
     "data": {
      "text/plain": [
       "[<matplotlib.lines.Line2D at 0x7fc7a1501150>]"
      ]
     },
     "execution_count": 196,
     "metadata": {},
     "output_type": "execute_result"
    },
    {
     "data": {
      "image/png": "[encoded data removed]",
      "text/plain": [
       "<Figure size 432x288 with 1 Axes>"
      ]
     },
     "metadata": {
      "needs_background": "light"
     },
     "output_type": "display_data"
    }
   ],
   "source": [
    "plt.plot(recalls_lr, precisions_lr)"
   ]
  },
  {
   "cell_type": "code",
   "execution_count": null,
   "metadata": {},
   "outputs": [],
   "source": []
  },
  {
   "cell_type": "markdown",
   "metadata": {},
   "source": [
    "## Compare the curves"
   ]
  },
  {
   "cell_type": "code",
   "execution_count": 75,
   "metadata": {},
   "outputs": [
    {
     "data": {
      "text/plain": [
       "<matplotlib.legend.Legend at 0x133199890>"
      ]
     },
     "execution_count": 75,
     "metadata": {},
     "output_type": "execute_result"
    },
    {
     "data": {
      "image/png": "[encoded data removed]",
      "text/plain": [
       "<Figure size 432x288 with 1 Axes>"
      ]
     },
     "metadata": {
      "needs_background": "light"
     },
     "output_type": "display_data"
    }
   ],
   "source": [
    "fig = plt.figure()\n",
    "plt.plot(recalls_lr, precisions_lr)\n",
    "plt.plot(recalls_rfc, precisions_rfc)\n",
    "plt.xlabel('recall')\n",
    "plt.ylabel('precision')\n",
    "plt.axvline(0.95, color='red')\n",
    "plt.axhline(0.51)\n",
    "plt.legend(['logistic regr', 'random forest'])"
   ]
  },
  {
   "cell_type": "code",
   "execution_count": 53,
   "metadata": {},
   "outputs": [
    {
     "data": {
      "text/plain": [
       "Pipeline(steps=[('encoder',\n",
       "                 CategoricalEncoder(features_to_encode=['loan_history',\n",
       "                                                        'purpose',\n",
       "                                                        'other_parties',\n",
       "                                                        'property_magnitude',\n",
       "                                                        'other_payment_plans',\n",
       "                                                        'housing',\n",
       "                                                        'personal_status',\n",
       "                                                        'job'])),\n",
       "                ('select',\n",
       "                 FeatureSelector(features_to_select=['duration', 'loan_amount',\n",
       "                                                     'age',\n",
       "                                                     'foreign_worker_binary',\n",
       "                                                     'checking_status_ordinal',\n",
       "                                                     'savings_status_ordinal',\n",
       "                                                     'employment_ordinal',\n",
       "                                                     'installment_commitment_ordinal',\n",
       "                                                     'loan_history', 'purpose',\n",
       "                                                     'other_parties',\n",
       "                                                     'property_magnitude',\n",
       "                                                     'other_payment_plans',\n",
       "                                                     'housing',\n",
       "                                                     'personal_status',\n",
       "                                                     'job'])),\n",
       "                ('scaler', StandardScaler()),\n",
       "                ('logistic',\n",
       "                 LogisticRegression(C=1, class_weight='balanced',\n",
       "                                    max_iter=2000))])"
      ]
     },
     "execution_count": 53,
     "metadata": {},
     "output_type": "execute_result"
    }
   ],
   "source": [
    "pipe_logistic.fit(X, y)"
   ]
  },
  {
   "cell_type": "code",
   "execution_count": 59,
   "metadata": {},
   "outputs": [],
   "source": [
    "predictions = (pipe_logistic.predict_proba(X)[:,1] > 0.5).astype(int)"
   ]
  },
  {
   "cell_type": "code",
   "execution_count": 61,
   "metadata": {},
   "outputs": [
    {
     "data": {
      "text/plain": [
       "0.5035799522673031"
      ]
     },
     "execution_count": 61,
     "metadata": {},
     "output_type": "execute_result"
    }
   ],
   "source": [
    "precision_score(y, predictions)"
   ]
  },
  {
   "cell_type": "code",
   "execution_count": 62,
   "metadata": {},
   "outputs": [
    {
     "data": {
      "text/plain": [
       "0.7033333333333334"
      ]
     },
     "execution_count": 62,
     "metadata": {},
     "output_type": "execute_result"
    }
   ],
   "source": [
    "recall_score(y,predictions)"
   ]
  },
  {
   "cell_type": "code",
   "execution_count": null,
   "metadata": {},
   "outputs": [],
   "source": []
  }
 ],
 "metadata": {
  "kernelspec": {
   "display_name": "Python 3",
   "language": "python",
   "name": "python3"
  },
  "language_info": {
   "codemirror_mode": {
    "name": "ipython",
    "version": 3
   },
   "file_extension": ".py",
   "mimetype": "text/x-python",
   "name": "python",
   "nbconvert_exporter": "python",
   "pygments_lexer": "ipython3",
   "version": "3.7.9"
  }
 },
 "nbformat": 4,
 "nbformat_minor": 4
}
