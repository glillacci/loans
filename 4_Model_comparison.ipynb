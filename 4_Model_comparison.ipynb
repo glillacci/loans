{
 "cells": [
  {
   "cell_type": "markdown",
   "metadata": {},
   "source": [
    "# Predicting the outcome of loan applications\n",
    "# 4. Model comparison\n",
    "To get a more complete picture of the performance of the two models, we can compare their precision-recall curves. Precision and recall can always be traded off, so just looking at the numbers for the standard value of the classification threshold of 0.5 is not really enough.\n",
    "\n",
    "As mentioned before, in this problem we care about high recall (as few false negatives as possible), so the curves below show how we can drive the model towards that, and also how precision will be affected in the process. The strategy to implement will ultimately be driven by business strategy: how much risk are we willing to take to achieve a given target revenue?\n",
    "\n",
    "Both models are doing better than random guessing, and the Random Forest model is doing better than Logistic Regression."
   ]
  },
  {
   "cell_type": "code",
   "execution_count": 1,
   "metadata": {},
   "outputs": [],
   "source": [
    "import os\n",
    "import pandas as pd\n",
    "import numpy as np\n",
    "import seaborn as sns\n",
    "import sys\n",
    "import matplotlib.pyplot as plt\n",
    "\n",
    "from sklearn.preprocessing import StandardScaler\n",
    "from sklearn.decomposition import PCA\n",
    "from sklearn.pipeline import Pipeline\n",
    "from sklearn.metrics import precision_score\n",
    "from sklearn.metrics import recall_score\n",
    "\n",
    "from sklearn.linear_model import LogisticRegression\n",
    "from sklearn.ensemble import RandomForestClassifier\n",
    "from sklearn.model_selection import StratifiedShuffleSplit\n",
    "from sklearn.model_selection import StratifiedKFold\n",
    "\n",
    "p = os.path.abspath('../')\n",
    "if p not in sys.path:\n",
    "    sys.path.append(p)\n",
    "\n",
    "from shared.data_processing import CategoricalEncoder\n",
    "from shared.data_processing import FeatureSelector\n",
    "from shared.plotting import compute_precision_recall_curve\n",
    "from shared.plotting import avg_confusion_matrix\n"
   ]
  },
  {
   "cell_type": "markdown",
   "metadata": {},
   "source": [
    "## Load data"
   ]
  },
  {
   "cell_type": "code",
   "execution_count": 2,
   "metadata": {},
   "outputs": [],
   "source": [
    "df = pd.read_csv('./data/loan_data_prepped.csv')"
   ]
  },
  {
   "cell_type": "code",
   "execution_count": 3,
   "metadata": {},
   "outputs": [],
   "source": [
    "X = df.drop(['label', 'accepted'], axis=1)\n",
    "y = df['label']"
   ]
  },
  {
   "cell_type": "markdown",
   "metadata": {},
   "source": [
    "## Set the features\n",
    "Features of interest we have identified in the previous notebooks."
   ]
  },
  {
   "cell_type": "code",
   "execution_count": 4,
   "metadata": {},
   "outputs": [],
   "source": [
    "NUMERICAL_FEATURES = ['duration', 'loan_amount', 'age']\n",
    "\n",
    "FIXED_CATEGORICAL = ['foreign_worker_binary', 'checking_status_ordinal', 'savings_status_ordinal',\n",
    "                     'employment_ordinal', 'installment_commitment_ordinal']\n",
    "\n",
    "OTHER_CATEGORICAL = ['loan_history', 'purpose', 'other_parties', 'property_magnitude',\n",
    "                     'other_payment_plans', 'housing', 'personal_status', 'job']\n",
    "\n",
    "FEATURES = NUMERICAL_FEATURES + FIXED_CATEGORICAL + OTHER_CATEGORICAL"
   ]
  },
  {
   "cell_type": "markdown",
   "metadata": {},
   "source": [
    "## Set up the modelling pipelines to compare"
   ]
  },
  {
   "cell_type": "code",
   "execution_count": 5,
   "metadata": {},
   "outputs": [],
   "source": [
    "encoder = CategoricalEncoder(features_to_encode=OTHER_CATEGORICAL)"
   ]
  },
  {
   "cell_type": "code",
   "execution_count": 6,
   "metadata": {},
   "outputs": [],
   "source": [
    "selector = FeatureSelector(features_to_select=FEATURES)"
   ]
  },
  {
   "cell_type": "code",
   "execution_count": 7,
   "metadata": {},
   "outputs": [],
   "source": [
    "logistic_tuned = LogisticRegression(max_iter=2000,\n",
    "                                    class_weight='balanced',\n",
    "                                    solver='newton-cg',\n",
    "                                    C=0.004832930238571752)"
   ]
  },
  {
   "cell_type": "code",
   "execution_count": 8,
   "metadata": {},
   "outputs": [],
   "source": [
    "pipe_logistic = Pipeline(steps=[('encoder', encoder),\n",
    "                                ('select', selector),\n",
    "                                ('scaler', StandardScaler()),\n",
    "                                ('logistic', logistic_tuned)])"
   ]
  },
  {
   "cell_type": "code",
   "execution_count": 9,
   "metadata": {},
   "outputs": [],
   "source": [
    "rfc_tuned = RandomForestClassifier(class_weight='balanced',\n",
    "                                   n_estimators=100,\n",
    "                                   criterion='gini',\n",
    "                                   max_depth=7,\n",
    "                                   max_features=13)"
   ]
  },
  {
   "cell_type": "code",
   "execution_count": 10,
   "metadata": {},
   "outputs": [],
   "source": [
    "pipe_forest = Pipeline(steps=[('encode', encoder),\n",
    "                              ('select', selector),\n",
    "                              ('forest', rfc_tuned)])"
   ]
  },
  {
   "cell_type": "markdown",
   "metadata": {},
   "source": [
    "## Compare the precision-recall curves"
   ]
  },
  {
   "cell_type": "code",
   "execution_count": 11,
   "metadata": {},
   "outputs": [],
   "source": [
    "sss = StratifiedShuffleSplit(n_splits=100, test_size=0.25)"
   ]
  },
  {
   "cell_type": "code",
   "execution_count": 12,
   "metadata": {},
   "outputs": [],
   "source": [
    "(precision_means_rfc, precision_stds_rfc,\n",
    " recall_means_rfc, recall_stds_rfc) = compute_precision_recall_curve(X, y, pipe_forest, sss)"
   ]
  },
  {
   "cell_type": "code",
   "execution_count": 13,
   "metadata": {},
   "outputs": [],
   "source": [
    "(precision_means_lr, precision_stds_lr,\n",
    " recall_means_lr, recall_stds_lr) = compute_precision_recall_curve(X, y, pipe_logistic, sss)"
   ]
  },
  {
   "cell_type": "code",
   "execution_count": 14,
   "metadata": {},
   "outputs": [
    {
     "data": {
      "text/plain": [
       "<matplotlib.legend.Legend at 0x7fe717b36310>"
      ]
     },
     "execution_count": 14,
     "metadata": {},
     "output_type": "execute_result"
    },
    {
     "data": {
      "image/png": "[encoded data removed]",
      "text/plain": [
       "<Figure size 720x504 with 1 Axes>"
      ]
     },
     "metadata": {
      "needs_background": "light"
     },
     "output_type": "display_data"
    }
   ],
   "source": [
    "fig = plt.figure(figsize=(10, 7))\n",
    "\n",
    "plt.plot(recall_means_lr, precision_means_lr)\n",
    "plt.plot(recall_means_rfc, precision_means_rfc)\n",
    "\n",
    "plt.axhline(y=y.mean(), color='red', linestyle='dashed')\n",
    "plt.axhline(y=1, color='black', linestyle='dashed')\n",
    "\n",
    "plt.xlabel('recall')\n",
    "plt.ylabel('precision')\n",
    "plt.legend(['logistic regression', 'random forest', 'random guess', 'perfect classifier'])"
   ]
  },
  {
   "cell_type": "markdown",
   "metadata": {},
   "source": [
    "## Random Forest Confusion Matrix"
   ]
  },
  {
   "cell_type": "code",
   "execution_count": 15,
   "metadata": {},
   "outputs": [],
   "source": [
    "means, stds = avg_confusion_matrix(X, y, pipe_forest, sss, threshold=0.32)\n"
   ]
  },
  {
   "cell_type": "code",
   "execution_count": 16,
   "metadata": {},
   "outputs": [
    {
     "data": {
      "text/plain": [
       "array([[0.398  , 0.302  ],\n",
       "       [0.04852, 0.25148]])"
      ]
     },
     "execution_count": 16,
     "metadata": {},
     "output_type": "execute_result"
    }
   ],
   "source": [
    "means"
   ]
  },
  {
   "cell_type": "code",
   "execution_count": 17,
   "metadata": {},
   "outputs": [
    {
     "data": {
      "text/plain": [
       "array([[0.02268039, 0.02268039],\n",
       "       [0.01377133, 0.01377133]])"
      ]
     },
     "execution_count": 17,
     "metadata": {},
     "output_type": "execute_result"
    }
   ],
   "source": [
    "stds"
   ]
  },
  {
   "cell_type": "markdown",
   "metadata": {},
   "source": [
    "## Random Forest Feature Importances"
   ]
  },
  {
   "cell_type": "code",
   "execution_count": 18,
   "metadata": {},
   "outputs": [
    {
     "data": {
      "text/plain": [
       "array([0.08956389, 0.12481837, 0.10755564, 0.0093971 , 0.23283854,\n",
       "       0.079704  , 0.0447259 , 0.03060594, 0.05608676, 0.06263241,\n",
       "       0.03464301, 0.03561938, 0.04024985, 0.01113511, 0.02194527,\n",
       "       0.01847883])"
      ]
     },
     "execution_count": 18,
     "metadata": {},
     "output_type": "execute_result"
    }
   ],
   "source": [
    "rfc_tuned.feature_importances_"
   ]
  },
  {
   "cell_type": "code",
   "execution_count": 19,
   "metadata": {},
   "outputs": [
    {
     "data": {
      "text/plain": [
       "([0, 1, 2, 3, 4, 5, 6, 7, 8, 9, 10, 11, 12, 13, 14, 15],\n",
       " [Text(0, 0, ''),\n",
       "  Text(0, 0, ''),\n",
       "  Text(0, 0, ''),\n",
       "  Text(0, 0, ''),\n",
       "  Text(0, 0, ''),\n",
       "  Text(0, 0, ''),\n",
       "  Text(0, 0, ''),\n",
       "  Text(0, 0, ''),\n",
       "  Text(0, 0, ''),\n",
       "  Text(0, 0, ''),\n",
       "  Text(0, 0, ''),\n",
       "  Text(0, 0, ''),\n",
       "  Text(0, 0, ''),\n",
       "  Text(0, 0, ''),\n",
       "  Text(0, 0, ''),\n",
       "  Text(0, 0, '')])"
      ]
     },
     "execution_count": 19,
     "metadata": {},
     "output_type": "execute_result"
    },
    {
     "data": {
      "image/png": "[encoded data removed]",
      "text/plain": [
       "<Figure size 720x360 with 1 Axes>"
      ]
     },
     "metadata": {
      "needs_background": "light"
     },
     "output_type": "display_data"
    }
   ],
   "source": [
    "fig = plt.figure(figsize=(10, 5))\n",
    "\n",
    "IDX = np.argsort(-rfc_tuned.feature_importances_)\n",
    "\n",
    "plt.bar(np.asarray(FEATURES)[IDX], rfc_tuned.feature_importances_[IDX])\n",
    "plt.xticks(rotation=20, ha='right')\n"
   ]
  },
  {
   "cell_type": "code",
   "execution_count": null,
   "metadata": {},
   "outputs": [],
   "source": []
  }
 ],
 "metadata": {
  "kernelspec": {
   "display_name": "Python 3",
   "language": "python",
   "name": "python3"
  },
  "language_info": {
   "codemirror_mode": {
    "name": "ipython",
    "version": 3
   },
   "file_extension": ".py",
   "mimetype": "text/x-python",
   "name": "python",
   "nbconvert_exporter": "python",
   "pygments_lexer": "ipython3",
   "version": "3.7.9"
  }
 },
 "nbformat": 4,
 "nbformat_minor": 4
}
