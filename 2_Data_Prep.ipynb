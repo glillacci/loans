{
 "cells": [
  {
   "cell_type": "markdown",
   "metadata": {},
   "source": [
    "# Predicting the outcome of loan applications\n",
    "# 2. Data preparation"
   ]
  },
  {
   "cell_type": "code",
   "execution_count": 1,
   "metadata": {},
   "outputs": [],
   "source": [
    "import os\n",
    "import pandas as pd\n",
    "import numpy as np\n",
    "import sys\n",
    "\n",
    "p = os.path.abspath('../')\n",
    "if p not in sys.path:\n",
    "    sys.path.append(p)\n",
    "\n",
    "from shared.data_processing import CategoricalEncoder\n",
    "\n",
    "from sklearn.preprocessing import StandardScaler\n",
    "from sklearn.decomposition import PCA"
   ]
  },
  {
   "cell_type": "markdown",
   "metadata": {},
   "source": [
    "## Load raw data"
   ]
  },
  {
   "cell_type": "code",
   "execution_count": 2,
   "metadata": {},
   "outputs": [],
   "source": [
    "df = pd.read_csv('./data/loan_data.csv')"
   ]
  },
  {
   "cell_type": "markdown",
   "metadata": {},
   "source": [
    "## Recode the label\n",
    "I will re-encode the labels in a more intuitive way where `1` (positive) indicates something that requires human attention, i.e. a rejection, while `0` (negative) suggests that everything is fine, i.e. an acceptance."
   ]
  },
  {
   "cell_type": "code",
   "execution_count": 3,
   "metadata": {},
   "outputs": [],
   "source": [
    "df['label'] = df['accepted'].map({2: 0, 1: 1})"
   ]
  },
  {
   "cell_type": "markdown",
   "metadata": {},
   "source": [
    "## Encoding the categorical variables\n",
    "The categorical variables need to be converted to numbers, i.e. ***encoded***, in order to be interpretable by the models. Among the ones we pre-selected in the exploratory data analysis, we distinguish 3 types of categorical variables."
   ]
  },
  {
   "cell_type": "markdown",
   "metadata": {},
   "source": [
    "### Binary categorical variables\n",
    "These are the most straighforward, as they can just be encoded with the two values `0` and `1`."
   ]
  },
  {
   "cell_type": "code",
   "execution_count": 4,
   "metadata": {},
   "outputs": [
    {
     "data": {
      "text/plain": [
       "yes    963\n",
       "no      37\n",
       "Name: foreign_worker, dtype: int64"
      ]
     },
     "execution_count": 4,
     "metadata": {},
     "output_type": "execute_result"
    }
   ],
   "source": [
    "df['foreign_worker'].value_counts()"
   ]
  },
  {
   "cell_type": "code",
   "execution_count": 5,
   "metadata": {},
   "outputs": [],
   "source": [
    "df['foreign_worker_binary'] = df['foreign_worker'].map({'no': 0.0, 'yes': 1.0})"
   ]
  },
  {
   "cell_type": "markdown",
   "metadata": {},
   "source": [
    "### Ordinal categorical variables\n",
    "These have more than two level, but the levels have an intrinsic ordering. This allows us to encode them using integers which are ordered accordingly."
   ]
  },
  {
   "cell_type": "code",
   "execution_count": 6,
   "metadata": {},
   "outputs": [
    {
     "data": {
      "text/plain": [
       "None          394\n",
       "<0DM          274\n",
       "0_to_200DM    269\n",
       ">200DM         63\n",
       "Name: checking_status, dtype: int64"
      ]
     },
     "execution_count": 6,
     "metadata": {},
     "output_type": "execute_result"
    }
   ],
   "source": [
    "df['checking_status'].value_counts()"
   ]
  },
  {
   "cell_type": "code",
   "execution_count": 7,
   "metadata": {},
   "outputs": [],
   "source": [
    "df['checking_status_ordinal'] = df['checking_status'].map({\n",
    "    'None': -1.0,\n",
    "    '<0DM': 0.0,\n",
    "    '0_to_200DM': 1.0,\n",
    "    '>200DM': 2.0\n",
    "})"
   ]
  },
  {
   "cell_type": "code",
   "execution_count": 8,
   "metadata": {},
   "outputs": [
    {
     "data": {
      "text/plain": [
       "<100DM                        603\n",
       "Unknown_or_no_savings_acct    183\n",
       "100_to_500DM                  103\n",
       "500_to_1000DM                  63\n",
       ">1000DM                        48\n",
       "Name: savings_status, dtype: int64"
      ]
     },
     "execution_count": 8,
     "metadata": {},
     "output_type": "execute_result"
    }
   ],
   "source": [
    "df['savings_status'].value_counts()"
   ]
  },
  {
   "cell_type": "code",
   "execution_count": 9,
   "metadata": {},
   "outputs": [],
   "source": [
    "df['savings_status_ordinal'] = df['savings_status'].map({\n",
    "    'Unknown_or_no_savings_acct': -1.0,\n",
    "    '<100DM': 0.0,\n",
    "    '100_to_500DM': 1.0,\n",
    "    '500_to_1000DM': 2.0,\n",
    "    '>1000DM': 3.0\n",
    "})"
   ]
  },
  {
   "cell_type": "code",
   "execution_count": 10,
   "metadata": {},
   "outputs": [
    {
     "data": {
      "text/plain": [
       "1_to_4yrs     339\n",
       ">7yrs         253\n",
       "4_to_7yrs     174\n",
       "<1yr          172\n",
       "unemployed     62\n",
       "Name: employment, dtype: int64"
      ]
     },
     "execution_count": 10,
     "metadata": {},
     "output_type": "execute_result"
    }
   ],
   "source": [
    "df['employment'].value_counts()"
   ]
  },
  {
   "cell_type": "code",
   "execution_count": 11,
   "metadata": {},
   "outputs": [],
   "source": [
    "df['employment_ordinal'] = df['employment'].map({\n",
    "    'unemployed': -1.0,\n",
    "    '<1yr': 0.0, \n",
    "    '1_to_4yrs': 1.0,\n",
    "    '4_to_7yrs' : 2.0,\n",
    "    '>7yrs': 3.0\n",
    "})"
   ]
  },
  {
   "cell_type": "code",
   "execution_count": 12,
   "metadata": {},
   "outputs": [
    {
     "data": {
      "text/plain": [
       "4    476\n",
       "2    231\n",
       "3    157\n",
       "1    136\n",
       "Name: installment_commitment, dtype: int64"
      ]
     },
     "execution_count": 12,
     "metadata": {},
     "output_type": "execute_result"
    }
   ],
   "source": [
    "df['installment_commitment'].value_counts()"
   ]
  },
  {
   "cell_type": "markdown",
   "metadata": {},
   "source": [
    "Installment commitment is already ordinally encoded."
   ]
  },
  {
   "cell_type": "code",
   "execution_count": 13,
   "metadata": {},
   "outputs": [],
   "source": [
    "df['installment_commitment_ordinal'] = df['installment_commitment'].astype(float)"
   ]
  },
  {
   "cell_type": "markdown",
   "metadata": {},
   "source": [
    "## Save the data set including the variable with fixed encoding"
   ]
  },
  {
   "cell_type": "markdown",
   "metadata": {},
   "source": [
    "Change types of all features to float, to prevent warning when scaling."
   ]
  },
  {
   "cell_type": "code",
   "execution_count": 14,
   "metadata": {},
   "outputs": [],
   "source": [
    "for column in df.columns:\n",
    "    if df[column].dtype == 'int64':\n",
    "        df[column] = df[column].astype(float)"
   ]
  },
  {
   "cell_type": "code",
   "execution_count": 15,
   "metadata": {},
   "outputs": [],
   "source": [
    "df.to_csv('./data/loan_data_prepped.csv', index=False)"
   ]
  },
  {
   "cell_type": "markdown",
   "metadata": {},
   "source": [
    "## Other categorical variables\n",
    "For the others, there is no clear way to associate them to numbers, so we need to find another way. I am going to avoid one-hot encoding for this data set, because it's too small, and we could potentially end up with hundreds of features and only 1000 data points. I will use an encoding based on the effect of the feature on the target. **Since this encoding depends on the target, it needs to be computed using training data only, i.e. separately for each cross-validation fold.** Below is an example using all data."
   ]
  },
  {
   "cell_type": "code",
   "execution_count": 16,
   "metadata": {},
   "outputs": [],
   "source": [
    "OTHER_CATEGORICAL = ['loan_history', 'purpose', 'other_parties', 'property_magnitude',\n",
    "                     'other_payment_plans', 'housing', 'personal_status', 'job']"
   ]
  },
  {
   "cell_type": "code",
   "execution_count": 17,
   "metadata": {},
   "outputs": [],
   "source": [
    "enc = CategoricalEncoder(features_to_encode=OTHER_CATEGORICAL)"
   ]
  },
  {
   "cell_type": "code",
   "execution_count": 18,
   "metadata": {},
   "outputs": [
    {
     "data": {
      "text/plain": [
       "CategoricalEncoder(features_to_encode=['loan_history', 'purpose',\n",
       "                                       'other_parties', 'property_magnitude',\n",
       "                                       'other_payment_plans', 'housing',\n",
       "                                       'personal_status', 'job'])"
      ]
     },
     "execution_count": 18,
     "metadata": {},
     "output_type": "execute_result"
    }
   ],
   "source": [
    "enc.fit(df, df['label'])"
   ]
  },
  {
   "cell_type": "code",
   "execution_count": 19,
   "metadata": {},
   "outputs": [
    {
     "data": {
      "text/plain": [
       "{'loan_history': {'No_loans_taken_or_all_paid': 0,\n",
       "  'All_loans_paid_duly': 1,\n",
       "  'Existing_loans_paid_till_now': 2,\n",
       "  'Delay_in_past': 3,\n",
       "  'Critical_acct_other_loans_existing': 4},\n",
       " 'purpose': {'education': 0,\n",
       "  'other': 1,\n",
       "  'new_car': 2,\n",
       "  'repairs': 3,\n",
       "  'business': 4,\n",
       "  'domestic_appliances': 5,\n",
       "  'furniture/equipment': 6,\n",
       "  'radio/television': 7,\n",
       "  'used_car': 8,\n",
       "  'retraining': 9},\n",
       " 'other_parties': {'co-applicant': 0, 'None': 1, 'guarantor': 2},\n",
       " 'property_magnitude': {'unknown/no_property': 0,\n",
       "  'car_or_other_nonsavings': 1,\n",
       "  'building_society_savings_agreement/life_insurance': 2,\n",
       "  'real_estate': 3},\n",
       " 'other_payment_plans': {'bank': 0, 'stores': 1, 'none': 2},\n",
       " 'housing': {'for_free': 0, 'rent': 1, 'own': 2},\n",
       " 'personal_status': {'male_divorced/separated': 0,\n",
       "  'female_divorced/separated/married': 1,\n",
       "  'male_married/widowed': 2,\n",
       "  'male_single': 3},\n",
       " 'job': {'management_self-employed_highly_qualified/officer': 0,\n",
       "  'unemployed/unskilled_nonresident': 1,\n",
       "  'skilled_employee/official': 2,\n",
       "  'unskilled_resident': 3}}"
      ]
     },
     "execution_count": 19,
     "metadata": {},
     "output_type": "execute_result"
    }
   ],
   "source": [
    "enc.mappings"
   ]
  },
  {
   "cell_type": "code",
   "execution_count": 20,
   "metadata": {},
   "outputs": [],
   "source": [
    "df = enc.transform(df)"
   ]
  },
  {
   "cell_type": "markdown",
   "metadata": {},
   "source": [
    "## Feature selection"
   ]
  },
  {
   "cell_type": "markdown",
   "metadata": {},
   "source": [
    "Here are the numerical and encoded categorical features we settled on so far."
   ]
  },
  {
   "cell_type": "code",
   "execution_count": 21,
   "metadata": {},
   "outputs": [],
   "source": [
    "NUMERICAL_FEATURES = ['duration', 'loan_amount', 'age']\n",
    "\n",
    "FIXED_CATEGORICAL = ['foreign_worker_binary', 'checking_status_ordinal', 'savings_status_ordinal',\n",
    "                     'employment_ordinal', 'installment_commitment_ordinal']"
   ]
  },
  {
   "cell_type": "code",
   "execution_count": 22,
   "metadata": {},
   "outputs": [
    {
     "data": {
      "text/plain": [
       "['duration',\n",
       " 'loan_amount',\n",
       " 'age',\n",
       " 'foreign_worker_binary',\n",
       " 'checking_status_ordinal',\n",
       " 'savings_status_ordinal',\n",
       " 'employment_ordinal',\n",
       " 'installment_commitment_ordinal',\n",
       " 'loan_history',\n",
       " 'purpose',\n",
       " 'other_parties',\n",
       " 'property_magnitude',\n",
       " 'other_payment_plans',\n",
       " 'housing',\n",
       " 'personal_status',\n",
       " 'job']"
      ]
     },
     "execution_count": 22,
     "metadata": {},
     "output_type": "execute_result"
    }
   ],
   "source": [
    "FEATURES = NUMERICAL_FEATURES + FIXED_CATEGORICAL + OTHER_CATEGORICAL\n",
    "FEATURES"
   ]
  },
  {
   "cell_type": "markdown",
   "metadata": {},
   "source": [
    "So far, we have selected the features manually. But are we sure that we are not using redundant information? We can check this with PCA. It looks like even dropping 1 feature (out of 16) makes the explained variance drop below 99%. Dropping 4 features (out of 16) reduces the explained variance to less than 90%, so overall it seems like using all features is best in this case."
   ]
  },
  {
   "cell_type": "code",
   "execution_count": 23,
   "metadata": {},
   "outputs": [],
   "source": [
    "scaler = StandardScaler()\n",
    "X_scaled = scaler.fit_transform(df[FEATURES])"
   ]
  },
  {
   "cell_type": "code",
   "execution_count": 24,
   "metadata": {},
   "outputs": [],
   "source": [
    "pca = PCA(n_components=15, svd_solver='full')"
   ]
  },
  {
   "cell_type": "code",
   "execution_count": 25,
   "metadata": {},
   "outputs": [
    {
     "name": "stdout",
     "output_type": "stream",
     "text": [
      "0.9838594400066427\n",
      "[48.44731464 40.52018056 35.24649143 34.6623883  34.16889778 31.67105786\n",
      " 31.24285108 30.5724615  30.27273735 29.5594652  28.91870215 27.52984534\n",
      " 27.04571435 25.184898   21.85023303]\n"
     ]
    }
   ],
   "source": [
    "pca.fit(X_scaled)\n",
    "\n",
    "print(np.sum(pca.explained_variance_ratio_))\n",
    "print(pca.singular_values_)"
   ]
  },
  {
   "cell_type": "code",
   "execution_count": 26,
   "metadata": {},
   "outputs": [],
   "source": [
    "pca = PCA(n_components=12, svd_solver='full')"
   ]
  },
  {
   "cell_type": "code",
   "execution_count": 27,
   "metadata": {},
   "outputs": [
    {
     "name": "stdout",
     "output_type": "stream",
     "text": [
      "0.8686605377981221\n",
      "[48.44731464 40.52018056 35.24649143 34.6623883  34.16889778 31.67105786\n",
      " 31.24285108 30.5724615  30.27273735 29.5594652  28.91870215 27.52984534]\n"
     ]
    }
   ],
   "source": [
    "pca.fit(X_scaled)\n",
    "\n",
    "print(np.sum(pca.explained_variance_ratio_))\n",
    "print(pca.singular_values_)"
   ]
  },
  {
   "cell_type": "code",
   "execution_count": null,
   "metadata": {},
   "outputs": [],
   "source": []
  }
 ],
 "metadata": {
  "kernelspec": {
   "display_name": "Python 3",
   "language": "python",
   "name": "python3"
  },
  "language_info": {
   "codemirror_mode": {
    "name": "ipython",
    "version": 3
   },
   "file_extension": ".py",
   "mimetype": "text/x-python",
   "name": "python",
   "nbconvert_exporter": "python",
   "pygments_lexer": "ipython3",
   "version": "3.7.9"
  }
 },
 "nbformat": 4,
 "nbformat_minor": 4
}
