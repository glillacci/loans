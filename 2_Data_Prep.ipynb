{
 "cells": [
  {
   "cell_type": "markdown",
   "metadata": {},
   "source": [
    "# Predicting the outcome of loan applications\n",
    "# 2. Data preparation"
   ]
  },
  {
   "cell_type": "code",
   "execution_count": 1,
   "metadata": {},
   "outputs": [],
   "source": [
    "import os\n",
    "import pandas as pd\n",
    "import numpy as np\n",
    "import seaborn as sns\n",
    "import sys\n",
    "import matplotlib.pyplot as plt\n",
    "from matplotlib import rc\n",
    "\n",
    "p = os.path.abspath('../')\n",
    "if p not in sys.path:\n",
    "    sys.path.append(p)\n",
    "    \n",
    "from shared.plotting import percentage_stacked_bar_plot\n",
    "from shared.data_processing import encode_categorical\n",
    "\n",
    "from sklearn.preprocessing import StandardScaler\n",
    "from sklearn.decomposition import PCA"
   ]
  },
  {
   "cell_type": "markdown",
   "metadata": {},
   "source": [
    "## Load raw data"
   ]
  },
  {
   "cell_type": "code",
   "execution_count": 2,
   "metadata": {},
   "outputs": [],
   "source": [
    "df = pd.read_csv('./data/loan_data.csv')"
   ]
  },
  {
   "cell_type": "markdown",
   "metadata": {},
   "source": [
    "## Recode the label\n",
    "I will re-encode the labels in a more intuitive way where `1` (positive) indicates something that requires human attention, i.e. a rejection, while `0` (negative) suggests that everything is fine, i.e. an acceptance."
   ]
  },
  {
   "cell_type": "code",
   "execution_count": 3,
   "metadata": {},
   "outputs": [],
   "source": [
    "df['label'] = df['accepted'].map({2: 0, 1: 1})"
   ]
  },
  {
   "cell_type": "markdown",
   "metadata": {},
   "source": [
    "## Encoding the categorical variables\n",
    "The categorical variables need to be converted to numbers, i.e. ***encoded***, in order to be interpretable by the models. Among the ones we pre-selected in the exploratory data analysis, we distinguish 3 types of categorical variables."
   ]
  },
  {
   "cell_type": "markdown",
   "metadata": {},
   "source": [
    "### Binary categorical variables\n",
    "These are the most straighforward, as they can just be encoded with the two values `0` and `1`."
   ]
  },
  {
   "cell_type": "code",
   "execution_count": 4,
   "metadata": {},
   "outputs": [
    {
     "data": {
      "text/plain": [
       "yes    963\n",
       "no      37\n",
       "Name: foreign_worker, dtype: int64"
      ]
     },
     "execution_count": 4,
     "metadata": {},
     "output_type": "execute_result"
    }
   ],
   "source": [
    "df['foreign_worker'].value_counts()"
   ]
  },
  {
   "cell_type": "code",
   "execution_count": 5,
   "metadata": {},
   "outputs": [],
   "source": [
    "df['foreign_worker_binary'] = df['foreign_worker'].map({'no': 0, 'yes': 1})"
   ]
  },
  {
   "cell_type": "markdown",
   "metadata": {},
   "source": [
    "### Ordinal categorical variables\n",
    "These have more than two level, but the levels have an intrinsic ordering. This allows us to encode them using integers which are ordered accordingly."
   ]
  },
  {
   "cell_type": "code",
   "execution_count": 6,
   "metadata": {},
   "outputs": [
    {
     "data": {
      "text/plain": [
       "None          394\n",
       "<0DM          274\n",
       "0_to_200DM    269\n",
       ">200DM         63\n",
       "Name: checking_status, dtype: int64"
      ]
     },
     "execution_count": 6,
     "metadata": {},
     "output_type": "execute_result"
    }
   ],
   "source": [
    "df['checking_status'].value_counts()"
   ]
  },
  {
   "cell_type": "code",
   "execution_count": 7,
   "metadata": {},
   "outputs": [],
   "source": [
    "df['checking_status_ordinal'] = df['checking_status'].map({\n",
    "    'None': -1,\n",
    "    '<0DM': 0,\n",
    "    '0_to_200DM': 1,\n",
    "    '>200DM': 2\n",
    "})"
   ]
  },
  {
   "cell_type": "code",
   "execution_count": 8,
   "metadata": {},
   "outputs": [
    {
     "data": {
      "text/plain": [
       "<100DM                        603\n",
       "Unknown_or_no_savings_acct    183\n",
       "100_to_500DM                  103\n",
       "500_to_1000DM                  63\n",
       ">1000DM                        48\n",
       "Name: savings_status, dtype: int64"
      ]
     },
     "execution_count": 8,
     "metadata": {},
     "output_type": "execute_result"
    }
   ],
   "source": [
    "df['savings_status'].value_counts()"
   ]
  },
  {
   "cell_type": "code",
   "execution_count": 9,
   "metadata": {},
   "outputs": [],
   "source": [
    "df['savings_status_ordinal'] = df['savings_status'].map({\n",
    "    'Unknown_or_no_savings_acct': -1,\n",
    "    '<100DM': 0,\n",
    "    '100_to_500DM': 1,\n",
    "    '500_to_1000DM': 2,\n",
    "    '>1000DM': 3\n",
    "})"
   ]
  },
  {
   "cell_type": "code",
   "execution_count": 10,
   "metadata": {},
   "outputs": [
    {
     "data": {
      "text/plain": [
       "1_to_4yrs     339\n",
       ">7yrs         253\n",
       "4_to_7yrs     174\n",
       "<1yr          172\n",
       "unemployed     62\n",
       "Name: employment, dtype: int64"
      ]
     },
     "execution_count": 10,
     "metadata": {},
     "output_type": "execute_result"
    }
   ],
   "source": [
    "df['employment'].value_counts()"
   ]
  },
  {
   "cell_type": "code",
   "execution_count": 11,
   "metadata": {},
   "outputs": [],
   "source": [
    "df['employment_ordinal'] = df['employment'].map({\n",
    "    'unemployed': -1,\n",
    "    '<1yr': 0, \n",
    "    '1_to_4yrs': 1,\n",
    "    '4_to_7yrs' : 2,\n",
    "    '>7yrs': 3\n",
    "})"
   ]
  },
  {
   "cell_type": "code",
   "execution_count": 12,
   "metadata": {},
   "outputs": [
    {
     "data": {
      "text/plain": [
       "4    476\n",
       "2    231\n",
       "3    157\n",
       "1    136\n",
       "Name: installment_commitment, dtype: int64"
      ]
     },
     "execution_count": 12,
     "metadata": {},
     "output_type": "execute_result"
    }
   ],
   "source": [
    "df['installment_commitment'].value_counts()"
   ]
  },
  {
   "cell_type": "markdown",
   "metadata": {},
   "source": [
    "Installment commitment is already ordinally encoded."
   ]
  },
  {
   "cell_type": "code",
   "execution_count": 13,
   "metadata": {},
   "outputs": [],
   "source": [
    "df['installment_commitment_ordinal'] = df['installment_commitment'].astype(float)"
   ]
  },
  {
   "cell_type": "markdown",
   "metadata": {},
   "source": [
    "## Save the data set with the encoded variables"
   ]
  },
  {
   "cell_type": "code",
   "execution_count": 14,
   "metadata": {},
   "outputs": [],
   "source": [
    "df.to_csv('./data/loan_data_prepped.csv', index=False)"
   ]
  },
  {
   "cell_type": "markdown",
   "metadata": {},
   "source": [
    "## Other categorical variables\n",
    "For the others, there is no clear way to associate them to numbers, so we need to find another way. I am going to avoid one-hot encoding for this data set, because it's too small, and we could potentially end up with hundreds of features and only 1000 data points. I will use an encoding based on the effect of the feature on the target. **Since this encoding depends on the target, it needs to be computed using training data only, i.e. separately for each cross-validation fold.** Below is an example using all data."
   ]
  },
  {
   "cell_type": "code",
   "execution_count": 15,
   "metadata": {},
   "outputs": [],
   "source": [
    "OTHER_CATEGORICAL = ['loan_history', 'purpose', 'other_parties', 'property_magnitude',\n",
    "                     'other_payment_plans', 'housing', 'personal_status', 'job']"
   ]
  },
  {
   "cell_type": "code",
   "execution_count": 16,
   "metadata": {},
   "outputs": [
    {
     "data": {
      "text/html": [
       "<div>\n",
       "<style scoped>\n",
       "    .dataframe tbody tr th:only-of-type {\n",
       "        vertical-align: middle;\n",
       "    }\n",
       "\n",
       "    .dataframe tbody tr th {\n",
       "        vertical-align: top;\n",
       "    }\n",
       "\n",
       "    .dataframe thead th {\n",
       "        text-align: right;\n",
       "    }\n",
       "</style>\n",
       "<table border=\"1\" class=\"dataframe\">\n",
       "  <thead>\n",
       "    <tr style=\"text-align: right;\">\n",
       "      <th></th>\n",
       "      <th>checking_status</th>\n",
       "      <th>duration</th>\n",
       "      <th>loan_history</th>\n",
       "      <th>purpose</th>\n",
       "      <th>loan_amount</th>\n",
       "      <th>savings_status</th>\n",
       "      <th>employment</th>\n",
       "      <th>installment_commitment</th>\n",
       "      <th>personal_status</th>\n",
       "      <th>other_parties</th>\n",
       "      <th>...</th>\n",
       "      <th>employment_ordinal</th>\n",
       "      <th>installment_commitment_ordinal</th>\n",
       "      <th>loan_history_encoded</th>\n",
       "      <th>purpose_encoded</th>\n",
       "      <th>other_parties_encoded</th>\n",
       "      <th>property_magnitude_encoded</th>\n",
       "      <th>other_payment_plans_encoded</th>\n",
       "      <th>housing_encoded</th>\n",
       "      <th>personal_status_encoded</th>\n",
       "      <th>job_encoded</th>\n",
       "    </tr>\n",
       "  </thead>\n",
       "  <tbody>\n",
       "    <tr>\n",
       "      <th>0</th>\n",
       "      <td>&lt;0DM</td>\n",
       "      <td>6</td>\n",
       "      <td>Critical_acct_other_loans_existing</td>\n",
       "      <td>radio/television</td>\n",
       "      <td>1169</td>\n",
       "      <td>Unknown_or_no_savings_acct</td>\n",
       "      <td>&gt;7yrs</td>\n",
       "      <td>4</td>\n",
       "      <td>male_single</td>\n",
       "      <td>None</td>\n",
       "      <td>...</td>\n",
       "      <td>3</td>\n",
       "      <td>4.0</td>\n",
       "      <td>0</td>\n",
       "      <td>2</td>\n",
       "      <td>1</td>\n",
       "      <td>0</td>\n",
       "      <td>0</td>\n",
       "      <td>0</td>\n",
       "      <td>0</td>\n",
       "      <td>1</td>\n",
       "    </tr>\n",
       "    <tr>\n",
       "      <th>1</th>\n",
       "      <td>0_to_200DM</td>\n",
       "      <td>48</td>\n",
       "      <td>Existing_loans_paid_till_now</td>\n",
       "      <td>radio/television</td>\n",
       "      <td>5951</td>\n",
       "      <td>&lt;100DM</td>\n",
       "      <td>1_to_4yrs</td>\n",
       "      <td>2</td>\n",
       "      <td>female_divorced/separated/married</td>\n",
       "      <td>None</td>\n",
       "      <td>...</td>\n",
       "      <td>1</td>\n",
       "      <td>2.0</td>\n",
       "      <td>2</td>\n",
       "      <td>2</td>\n",
       "      <td>1</td>\n",
       "      <td>0</td>\n",
       "      <td>0</td>\n",
       "      <td>0</td>\n",
       "      <td>2</td>\n",
       "      <td>1</td>\n",
       "    </tr>\n",
       "    <tr>\n",
       "      <th>2</th>\n",
       "      <td>None</td>\n",
       "      <td>12</td>\n",
       "      <td>Critical_acct_other_loans_existing</td>\n",
       "      <td>education</td>\n",
       "      <td>2096</td>\n",
       "      <td>&lt;100DM</td>\n",
       "      <td>4_to_7yrs</td>\n",
       "      <td>2</td>\n",
       "      <td>male_single</td>\n",
       "      <td>None</td>\n",
       "      <td>...</td>\n",
       "      <td>2</td>\n",
       "      <td>2.0</td>\n",
       "      <td>0</td>\n",
       "      <td>9</td>\n",
       "      <td>1</td>\n",
       "      <td>0</td>\n",
       "      <td>0</td>\n",
       "      <td>0</td>\n",
       "      <td>0</td>\n",
       "      <td>0</td>\n",
       "    </tr>\n",
       "    <tr>\n",
       "      <th>3</th>\n",
       "      <td>&lt;0DM</td>\n",
       "      <td>42</td>\n",
       "      <td>Existing_loans_paid_till_now</td>\n",
       "      <td>furniture/equipment</td>\n",
       "      <td>7882</td>\n",
       "      <td>&lt;100DM</td>\n",
       "      <td>4_to_7yrs</td>\n",
       "      <td>2</td>\n",
       "      <td>male_single</td>\n",
       "      <td>guarantor</td>\n",
       "      <td>...</td>\n",
       "      <td>2</td>\n",
       "      <td>2.0</td>\n",
       "      <td>2</td>\n",
       "      <td>3</td>\n",
       "      <td>0</td>\n",
       "      <td>1</td>\n",
       "      <td>0</td>\n",
       "      <td>2</td>\n",
       "      <td>0</td>\n",
       "      <td>1</td>\n",
       "    </tr>\n",
       "    <tr>\n",
       "      <th>4</th>\n",
       "      <td>&lt;0DM</td>\n",
       "      <td>24</td>\n",
       "      <td>Delay_in_past</td>\n",
       "      <td>new_car</td>\n",
       "      <td>4870</td>\n",
       "      <td>&lt;100DM</td>\n",
       "      <td>1_to_4yrs</td>\n",
       "      <td>3</td>\n",
       "      <td>male_single</td>\n",
       "      <td>None</td>\n",
       "      <td>...</td>\n",
       "      <td>1</td>\n",
       "      <td>3.0</td>\n",
       "      <td>1</td>\n",
       "      <td>7</td>\n",
       "      <td>1</td>\n",
       "      <td>3</td>\n",
       "      <td>0</td>\n",
       "      <td>2</td>\n",
       "      <td>0</td>\n",
       "      <td>1</td>\n",
       "    </tr>\n",
       "  </tbody>\n",
       "</table>\n",
       "<p>5 rows × 35 columns</p>\n",
       "</div>"
      ],
      "text/plain": [
       "  checking_status  duration                        loan_history  \\\n",
       "0            <0DM         6  Critical_acct_other_loans_existing   \n",
       "1      0_to_200DM        48        Existing_loans_paid_till_now   \n",
       "2            None        12  Critical_acct_other_loans_existing   \n",
       "3            <0DM        42        Existing_loans_paid_till_now   \n",
       "4            <0DM        24                       Delay_in_past   \n",
       "\n",
       "               purpose  loan_amount              savings_status employment  \\\n",
       "0     radio/television         1169  Unknown_or_no_savings_acct      >7yrs   \n",
       "1     radio/television         5951                      <100DM  1_to_4yrs   \n",
       "2            education         2096                      <100DM  4_to_7yrs   \n",
       "3  furniture/equipment         7882                      <100DM  4_to_7yrs   \n",
       "4              new_car         4870                      <100DM  1_to_4yrs   \n",
       "\n",
       "   installment_commitment                    personal_status other_parties  \\\n",
       "0                       4                        male_single          None   \n",
       "1                       2  female_divorced/separated/married          None   \n",
       "2                       2                        male_single          None   \n",
       "3                       2                        male_single     guarantor   \n",
       "4                       3                        male_single          None   \n",
       "\n",
       "      ...      employment_ordinal installment_commitment_ordinal  \\\n",
       "0     ...                       3                            4.0   \n",
       "1     ...                       1                            2.0   \n",
       "2     ...                       2                            2.0   \n",
       "3     ...                       2                            2.0   \n",
       "4     ...                       1                            3.0   \n",
       "\n",
       "   loan_history_encoded purpose_encoded other_parties_encoded  \\\n",
       "0                     0               2                     1   \n",
       "1                     2               2                     1   \n",
       "2                     0               9                     1   \n",
       "3                     2               3                     0   \n",
       "4                     1               7                     1   \n",
       "\n",
       "  property_magnitude_encoded other_payment_plans_encoded  housing_encoded  \\\n",
       "0                          0                           0                0   \n",
       "1                          0                           0                0   \n",
       "2                          0                           0                0   \n",
       "3                          1                           0                2   \n",
       "4                          3                           0                2   \n",
       "\n",
       "  personal_status_encoded job_encoded  \n",
       "0                       0           1  \n",
       "1                       2           1  \n",
       "2                       0           0  \n",
       "3                       0           1  \n",
       "4                       0           1  \n",
       "\n",
       "[5 rows x 35 columns]"
      ]
     },
     "execution_count": 16,
     "metadata": {},
     "output_type": "execute_result"
    }
   ],
   "source": [
    "df = encode_categorical(df, OTHER_CATEGORICAL, 'label')\n",
    "df.head()"
   ]
  },
  {
   "cell_type": "markdown",
   "metadata": {},
   "source": [
    "## Feature selection"
   ]
  },
  {
   "cell_type": "markdown",
   "metadata": {},
   "source": [
    "Here are the numerical and encoded categorical features we settled on so far."
   ]
  },
  {
   "cell_type": "code",
   "execution_count": 17,
   "metadata": {},
   "outputs": [],
   "source": [
    "NUMERICAL_FEATURES = ['duration', 'loan_amount', 'age']\n",
    "\n",
    "FIXED_CATEGORICAL = ['foreign_worker_binary', 'checking_status_ordinal', 'savings_status_ordinal',\n",
    "                     'employment_ordinal', 'installment_commitment_ordinal']\n",
    "\n",
    "VARIABLE_CATEGORICAL = [f'{feature}_encoded' for feature in OTHER_CATEGORICAL]"
   ]
  },
  {
   "cell_type": "code",
   "execution_count": 18,
   "metadata": {},
   "outputs": [
    {
     "data": {
      "text/plain": [
       "['duration',\n",
       " 'loan_amount',\n",
       " 'age',\n",
       " 'foreign_worker_binary',\n",
       " 'checking_status_ordinal',\n",
       " 'savings_status_ordinal',\n",
       " 'employment_ordinal',\n",
       " 'installment_commitment_ordinal',\n",
       " 'loan_history_encoded',\n",
       " 'purpose_encoded',\n",
       " 'other_parties_encoded',\n",
       " 'property_magnitude_encoded',\n",
       " 'other_payment_plans_encoded',\n",
       " 'housing_encoded',\n",
       " 'personal_status_encoded',\n",
       " 'job_encoded']"
      ]
     },
     "execution_count": 18,
     "metadata": {},
     "output_type": "execute_result"
    }
   ],
   "source": [
    "FEATURES = NUMERICAL_FEATURES + FIXED_CATEGORICAL + VARIABLE_CATEGORICAL\n",
    "FEATURES"
   ]
  },
  {
   "cell_type": "markdown",
   "metadata": {},
   "source": [
    "So far, we have selected the features manually. But are we sure that we are not using redundant information? We can check this with PCA. It looks like even dropping 1 feature (out of 16) makes the explained variance drop below 99%. Dropping 4 features (out of 16) reduces the explained variance to less than 90%, so overall it seems like using all features is best in this case."
   ]
  },
  {
   "cell_type": "code",
   "execution_count": 19,
   "metadata": {},
   "outputs": [],
   "source": [
    "for feature in FEATURES:\n",
    "    df[feature] = df[feature].astype(float)"
   ]
  },
  {
   "cell_type": "code",
   "execution_count": 20,
   "metadata": {},
   "outputs": [],
   "source": [
    "scaler = StandardScaler()\n",
    "X_scaled = scaler.fit_transform(df[FEATURES])"
   ]
  },
  {
   "cell_type": "code",
   "execution_count": 21,
   "metadata": {},
   "outputs": [],
   "source": [
    "pca = PCA(n_components=15, svd_solver='full')"
   ]
  },
  {
   "cell_type": "code",
   "execution_count": 22,
   "metadata": {},
   "outputs": [
    {
     "name": "stdout",
     "output_type": "stream",
     "text": [
      "0.9838594400066427\n",
      "[48.44731464 40.52018056 35.24649143 34.6623883  34.16889778 31.67105786\n",
      " 31.24285108 30.5724615  30.27273735 29.5594652  28.91870215 27.52984534\n",
      " 27.04571435 25.184898   21.85023303]\n"
     ]
    }
   ],
   "source": [
    "pca.fit(X_scaled)\n",
    "\n",
    "print(np.sum(pca.explained_variance_ratio_))\n",
    "print(pca.singular_values_)"
   ]
  },
  {
   "cell_type": "code",
   "execution_count": 23,
   "metadata": {},
   "outputs": [],
   "source": [
    "pca = PCA(n_components=12, svd_solver='full')"
   ]
  },
  {
   "cell_type": "code",
   "execution_count": 24,
   "metadata": {},
   "outputs": [
    {
     "name": "stdout",
     "output_type": "stream",
     "text": [
      "0.8686605377981226\n",
      "[48.44731464 40.52018056 35.24649143 34.6623883  34.16889778 31.67105786\n",
      " 31.24285108 30.5724615  30.27273735 29.5594652  28.91870215 27.52984534]\n"
     ]
    }
   ],
   "source": [
    "pca.fit(X_scaled)\n",
    "\n",
    "print(np.sum(pca.explained_variance_ratio_))\n",
    "print(pca.singular_values_)"
   ]
  }
 ],
 "metadata": {
  "kernelspec": {
   "display_name": "Python 3",
   "language": "python",
   "name": "python3"
  },
  "language_info": {
   "codemirror_mode": {
    "name": "ipython",
    "version": 3
   },
   "file_extension": ".py",
   "mimetype": "text/x-python",
   "name": "python",
   "nbconvert_exporter": "python",
   "pygments_lexer": "ipython3",
   "version": "3.6.3"
  }
 },
 "nbformat": 4,
 "nbformat_minor": 4
}
